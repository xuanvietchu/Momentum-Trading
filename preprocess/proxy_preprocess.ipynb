{
 "cells": [
  {
   "cell_type": "code",
   "execution_count": null,
   "metadata": {},
   "outputs": [],
   "source": [
    "import pandas as pd\n",
    "import numpy as np\n",
    "import time\n",
    "import sklearn \n",
    "\n",
    "df_proxy = pd.read_csv('..\\\\processed_data\\\\ibes_eps_quarters_2003_2024_processed.csv')\n",
    "df_proxy.head()"
   ]
  },
  {
   "cell_type": "code",
   "execution_count": null,
   "metadata": {},
   "outputs": [],
   "source": [
    "# Convert STATPERS and FPEDATS to datetime\n",
    "df_proxy[\"STATPERS\"] = pd.to_datetime(df_proxy[\"STATPERS\"], dayfirst=True)\n",
    "df_proxy[\"FPEDATS\"] = pd.to_datetime(df_proxy[\"FPEDATS\"], dayfirst=True)"
   ]
  },
  {
   "cell_type": "code",
   "execution_count": null,
   "metadata": {},
   "outputs": [],
   "source": [
    "# Create a column to distinguish first vs second half of the year\n",
    "df_proxy['SemiAnnual'] = df_proxy['FPEDATS'].dt.month.apply(lambda x: 'A' if x <= 6 else 'B')\n",
    "\n",
    "# Group by company, year, and semi-annual period\n",
    "df_proxy['Year'] = df_proxy['FPEDATS'].dt.year\n",
    "\n",
    "# Aggregate by CUSIP, Year, and SemiAnnual (A or B)\n",
    "semi_annual = (\n",
    "    df_proxy\n",
    "    .groupby(['CUSIP', 'OFTIC', 'Year', 'SemiAnnual'])\n",
    "    .agg({\n",
    "        'NUMEST': 'sum',\n",
    "        'FPEDATS': 'max'  # Take the latest fiscal period end date\n",
    "    })\n",
    "    .reset_index()\n",
    ")\n",
    "\n",
    "# Rename SemiAnnual to FPI\n",
    "semi_annual['FPI'] = semi_annual['SemiAnnual']\n",
    "\n",
    "# Drop the temporary SemiAnnual column\n",
    "semi_annual.drop(columns=['SemiAnnual'], inplace=True)\n",
    "\n",
    "# Sort the data\n",
    "semi_annual = semi_annual.sort_values(['CUSIP', 'FPEDATS', 'FPI'])"
   ]
  },
  {
   "cell_type": "code",
   "execution_count": null,
   "metadata": {},
   "outputs": [],
   "source": [
    "semi_annual"
   ]
  },
  {
   "cell_type": "code",
   "execution_count": null,
   "metadata": {},
   "outputs": [],
   "source": [
    "semi_annual.to_csv('..\\\\models_data\\\\ibes_eps_semi_annual_by_date_2003_2024.csv', index=False)"
   ]
  },
  {
   "cell_type": "code",
   "execution_count": null,
   "metadata": {},
   "outputs": [],
   "source": [
    "# count the number of stocks in 2003\n",
    "semi_annual[semi_annual['Year'] == 2024].shape[0]"
   ]
  }
 ],
 "metadata": {
  "kernelspec": {
   "display_name": "fin",
   "language": "python",
   "name": "python3"
  },
  "language_info": {
   "codemirror_mode": {
    "name": "ipython",
    "version": 3
   },
   "file_extension": ".py",
   "mimetype": "text/x-python",
   "name": "python",
   "nbconvert_exporter": "python",
   "pygments_lexer": "ipython3",
   "version": "3.10.16"
  }
 },
 "nbformat": 4,
 "nbformat_minor": 2
}
