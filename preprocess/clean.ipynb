{
 "cells": [
  {
   "cell_type": "markdown",
   "metadata": {},
   "source": [
    "# Cleaning stocks"
   ]
  },
  {
   "cell_type": "code",
   "execution_count": null,
   "metadata": {},
   "outputs": [],
   "source": [
    "import pandas as pd\n",
    "stocks = pd.read_csv('..\\data\\stock_price_monthly_2003_2024.csv')\n",
    "\n",
    "stocks.head()"
   ]
  },
  {
   "cell_type": "code",
   "execution_count": null,
   "metadata": {},
   "outputs": [],
   "source": [
    "drop_stock_cols = [\"CUSIP\", \"vwretx\", \"PERMCO\", \"PERMNO\", \"RCRDDT\", \"SHRCD\", \"EXCHCD\", \"SICCD\"]\n",
    "\n",
    "try:\n",
    "   stocks[\"NasdaqDummy\"] = (stocks[\"EXCHCD\"] == 3).astype(int)\n",
    "except:\n",
    "   print(\"EXCHCD col not found\")\n",
    "\n",
    "\n",
    "stocks.drop(drop_stock_cols, axis=1, inplace=True, errors=\"ignore\")\n",
    "stocks.head()"
   ]
  },
  {
   "cell_type": "code",
   "execution_count": null,
   "metadata": {},
   "outputs": [],
   "source": [
    "# check for missing values and null values:\n",
    "\n",
    "stocks.isnull().sum()"
   ]
  },
  {
   "cell_type": "code",
   "execution_count": null,
   "metadata": {},
   "outputs": [],
   "source": [
    "# show 10 rows with missing values:\n",
    "\n",
    "stocks[stocks.isnull().any(axis=1)].head(10)"
   ]
  },
  {
   "cell_type": "code",
   "execution_count": null,
   "metadata": {},
   "outputs": [],
   "source": [
    "# drop rows with missing values:\n",
    "\n",
    "stocks.dropna(inplace=True)"
   ]
  },
  {
   "cell_type": "code",
   "execution_count": null,
   "metadata": {},
   "outputs": [],
   "source": [
    "# save to processed\n",
    "\n",
    "stocks.to_csv('..\\processed_data\\stock_price_monthly_2003_2024_processed.csv', index=False)"
   ]
  },
  {
   "cell_type": "markdown",
   "metadata": {},
   "source": [
    "# Cleaning IBES"
   ]
  },
  {
   "cell_type": "code",
   "execution_count": null,
   "metadata": {},
   "outputs": [],
   "source": [
    "import pandas as pd\n",
    "ibes = pd.read_csv('..\\data\\ibes_eps_quarters_2003_2024.csv')\n",
    "ibes.head()"
   ]
  },
  {
   "cell_type": "code",
   "execution_count": null,
   "metadata": {},
   "outputs": [],
   "source": [
    "drop_ibes_cols = [\"MEASURE\", \"TICKER\"]\n",
    "\n",
    "ibes.drop(drop_ibes_cols, axis=1, inplace=True, errors=\"ignore\")\n",
    "\n",
    "ibes.head()"
   ]
  },
  {
   "cell_type": "code",
   "execution_count": null,
   "metadata": {},
   "outputs": [],
   "source": [
    "# check for missing values and null values:\n",
    "\n",
    "ibes.isnull().sum()"
   ]
  },
  {
   "cell_type": "code",
   "execution_count": null,
   "metadata": {},
   "outputs": [],
   "source": [
    "# show 10 rows with missing values:\n",
    "\n",
    "ibes[ibes.isnull().any(axis=1)].iloc[0:10]"
   ]
  },
  {
   "cell_type": "code",
   "execution_count": null,
   "metadata": {},
   "outputs": [],
   "source": [
    "# drop rows if both CUSIP and OFTIC are missing:\n",
    "\n",
    "ibes.dropna(subset=[\"CUSIP\", \"OFTIC\"], how=\"all\", inplace=True) "
   ]
  },
  {
   "cell_type": "code",
   "execution_count": null,
   "metadata": {},
   "outputs": [],
   "source": [
    "# save to processed\n",
    "\n",
    "ibes.to_csv('..\\processed_data\\ibes_eps_quarters_2003_2024_processed.csv', index=False)"
   ]
  },
  {
   "cell_type": "markdown",
   "metadata": {},
   "source": [
    "# Check for connection between 2 tables"
   ]
  },
  {
   "cell_type": "code",
   "execution_count": null,
   "metadata": {},
   "outputs": [],
   "source": [
    "stocks = pd.read_csv('..\\processed_data\\stock_price_monthly_2003_2024_processed.csv')"
   ]
  },
  {
   "cell_type": "code",
   "execution_count": null,
   "metadata": {},
   "outputs": [],
   "source": [
    "ibes = pd.read_csv('..\\processed_data\\ibes_eps_quarters_2003_2024_processed.csv')"
   ]
  },
  {
   "cell_type": "code",
   "execution_count": null,
   "metadata": {},
   "outputs": [],
   "source": [
    "# get all unique CUSIP OFTIC CNAME from ibes:\n",
    "\n",
    "ibes_unique_CUSIP_OFTIC = ibes[[\"CUSIP\", \"OFTIC\"]].drop_duplicates()\n",
    "\n",
    "ibes_unique_CNAME = ibes[\"CNAME\"].unique()\n",
    "\n",
    "# show\n",
    "ibes_unique_CUSIP_OFTIC"
   ]
  },
  {
   "cell_type": "code",
   "execution_count": null,
   "metadata": {},
   "outputs": [],
   "source": [
    "# get all unique NCUSIP TICKER COMNAM from stocks\n",
    "\n",
    "stocks_unique_NCUSIP_TICKER = stocks[[\"NCUSIP\", \"TICKER\"]].drop_duplicates()\n",
    "\n",
    "stocks_unique_COMNAM = stocks[\"COMNAM\"].unique()\n",
    "\n",
    "stocks_unique_NCUSIP_TICKER"
   ]
  },
  {
   "cell_type": "code",
   "execution_count": null,
   "metadata": {},
   "outputs": [],
   "source": [
    "# # if (NCUSIP, TICKER) in both stocks and ibes, then merge\n",
    "\n",
    "# stocks_ibes_uniques = pd.merge(stocks_unique_NCUSIP_TICKER, ibes_unique_CUSIP_OFTIC,\n",
    "#                             how=\"inner\", left_on=[\"NCUSIP\", \"TICKER\"], right_on=[\"CUSIP\", \"OFTIC\"])\n",
    "# stocks_ibes_uniques "
   ]
  },
  {
   "cell_type": "code",
   "execution_count": null,
   "metadata": {},
   "outputs": [],
   "source": [
    "# # keep only stocks that has both NCUSIP and TICKER in stocks_ibes_uniques\n",
    "# stocks = stocks[stocks[\"NCUSIP\"].isin(stocks_ibes_uniques[\"NCUSIP\"]) & stocks[\"TICKER\"].isin(stocks_ibes_uniques[\"TICKER\"])]\n",
    "# stocks"
   ]
  },
  {
   "cell_type": "code",
   "execution_count": null,
   "metadata": {},
   "outputs": [],
   "source": [
    "# keep only ibes that has both CUSIP and OFTIC in stocks_unique_NCUSIP_TICKER\n",
    "ibes = ibes[ibes[\"CUSIP\"].isin(stocks_unique_NCUSIP_TICKER[\"NCUSIP\"]) & ibes[\"OFTIC\"].isin(stocks_unique_NCUSIP_TICKER[\"TICKER\"])]\n",
    "ibes"
   ]
  },
  {
   "cell_type": "code",
   "execution_count": null,
   "metadata": {},
   "outputs": [],
   "source": [
    "# save to processed\n",
    "\n",
    "stocks.to_csv('..\\processed_data\\stock_price_monthly_2003_2024_processed.csv', index=False)\n",
    "ibes.to_csv('..\\processed_data\\ibes_eps_quarters_2003_2024_processed.csv', index=False)"
   ]
  }
 ],
 "metadata": {
  "kernelspec": {
   "display_name": "fin",
   "language": "python",
   "name": "python3"
  },
  "language_info": {
   "codemirror_mode": {
    "name": "ipython",
    "version": 3
   },
   "file_extension": ".py",
   "mimetype": "text/x-python",
   "name": "python",
   "nbconvert_exporter": "python",
   "pygments_lexer": "ipython3",
   "version": "3.10.16"
  }
 },
 "nbformat": 4,
 "nbformat_minor": 2
}
