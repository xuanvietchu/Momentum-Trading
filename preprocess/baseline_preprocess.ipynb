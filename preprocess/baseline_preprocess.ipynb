{
 "cells": [
  {
   "cell_type": "code",
   "execution_count": null,
   "metadata": {},
   "outputs": [],
   "source": [
    "import pandas as pd\n",
    "import numpy as np\n",
    "\n",
    "df = pd.read_csv('..\\processed_data\\stock_price_monthly_2003_2024_processed.csv')\n",
    "df[\"date\"] = pd.to_datetime(df[\"date\"]).dt.to_period('M')\n",
    "df.head(10)"
   ]
  },
  {
   "cell_type": "code",
   "execution_count": null,
   "metadata": {},
   "outputs": [],
   "source": [
    " # Sort data by NCUSIP (Stock ID) and date\n",
    "df = df.sort_values(by=[\"NCUSIP\", \"TICKER\", \"date\"])\n",
    "\n",
    "\n",
    "df[\"RET\"] = pd.to_numeric(df[\"RET\"], errors=\"coerce\")\n",
    "\n",
    "# remove rows where RET = -66.0, -77.0, -88.0, -99.0\n",
    "df = df[(df[\"RET\"] != -66.0) & (df[\"RET\"] != -77.0) & (df[\"RET\"] != -88.0) & (df[\"RET\"] != -99.0)]\n",
    "\n",
    "# Compute past 12-month return (momentum measure)\n",
    "df[\"past_return\"] = (\n",
    "    df.groupby(\"NCUSIP\")[\"RET\"]\n",
    "    .rolling(window=12, min_periods=12)\n",
    "    .apply(lambda x: np.prod(1 + x) - 1, raw=True)\n",
    "    .reset_index(level=0, drop=True)\n",
    ")\n",
    "\n",
    "# Compute past 12-month return while skipping the most recent month\n",
    "df[\"past_return_skip\"] = (\n",
    "    df.groupby(\"NCUSIP\")[\"RET\"]\n",
    "    .rolling(window=12, min_periods=12)\n",
    "    .apply(lambda x: np.prod(1 + x[:-1]) - 1, raw=True)\n",
    "    .reset_index(level=0, drop=True)\n",
    ")\n",
    "\n",
    "# Compute past 12-month variance\n",
    "df[\"past_variance\"] = (\n",
    "    df.groupby(\"NCUSIP\")[\"RET\"]\n",
    "    .rolling(window=12, min_periods=12)\n",
    "    .var()\n",
    "    .reset_index(level=0, drop=True)\n",
    ")\n",
    "\n",
    "# Rk is the rate of return of a firm lagged k years for k 5 0,1,2,3,4\n",
    "df[\"R1\"] = df.groupby(\"NCUSIP\")[\"RET\"].shift(12)\n",
    "df[\"R2\"] = df.groupby(\"NCUSIP\")[\"RET\"].shift(24)\n",
    "df[\"R3\"] = df.groupby(\"NCUSIP\")[\"RET\"].shift(36)\n",
    "df[\"R4\"] = df.groupby(\"NCUSIP\")[\"RET\"].shift(48)\n",
    "\n",
    "\n",
    "df"
   ]
  },
  {
   "cell_type": "code",
   "execution_count": null,
   "metadata": {},
   "outputs": [],
   "source": [
    "df[df[\"NCUSIP\"] == \"U7260311\"].sort_values(by=\"date\")"
   ]
  },
  {
   "cell_type": "code",
   "execution_count": null,
   "metadata": {},
   "outputs": [],
   "source": [
    "# get year = 2013\n",
    "_test = df[(df[\"NCUSIP\"] == \"U7260311\") & (df[\"date\"].dt.year == 2016)]\n",
    "\n",
    "mult = 1\n",
    "for _t in _test['RET']:\n",
    "    mult = mult * (1 + _t)\n",
    "mult - 1"
   ]
  },
  {
   "cell_type": "code",
   "execution_count": null,
   "metadata": {},
   "outputs": [],
   "source": [
    "df[\"ME\"] = abs(df[\"PRC\"]) * df[\"SHROUT\"]\n",
    "# turnover\n",
    "df[\"T-O\"] = df[\"VOL\"] / df[\"SHROUT\"]"
   ]
  },
  {
   "cell_type": "code",
   "execution_count": null,
   "metadata": {},
   "outputs": [],
   "source": [
    "df.drop(columns=[\"VOL\", \"vwretd\"], inplace=True, errors=\"ignore\")\n",
    "df.sort_values(by=[\"date\", \"NCUSIP\"], inplace=True)\n",
    "df"
   ]
  },
  {
   "cell_type": "code",
   "execution_count": null,
   "metadata": {},
   "outputs": [],
   "source": [
    "# save to csv\n",
    "df.to_csv('..\\\\models_data\\\\stock_price_monthly_2003_2024.csv', index=False)"
   ]
  }
 ],
 "metadata": {
  "kernelspec": {
   "display_name": "fin",
   "language": "python",
   "name": "python3"
  },
  "language_info": {
   "codemirror_mode": {
    "name": "ipython",
    "version": 3
   },
   "file_extension": ".py",
   "mimetype": "text/x-python",
   "name": "python",
   "nbconvert_exporter": "python",
   "pygments_lexer": "ipython3",
   "version": "3.10.16"
  }
 },
 "nbformat": 4,
 "nbformat_minor": 2
}
